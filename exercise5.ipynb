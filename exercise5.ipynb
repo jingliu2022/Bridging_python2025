{
 "cells": [
  {
   "cell_type": "markdown",
   "id": "722a77ff",
   "metadata": {},
   "source": [
    "# Bridging - Coding with Jupyter Notebook\n",
    "\n",
    "\n",
    "0. Markdowns, Headings, Comments\n",
    "1. Built-in modules, third party packages\n",
    "2. Simple Data Visualization\n"
   ]
  },
  {
   "cell_type": "markdown",
   "id": "dafa4189",
   "metadata": {},
   "source": [
    "## 1. Built-in Python Modules and Third-party Packages"
   ]
  },
  {
   "cell_type": "markdown",
   "id": "9a4a11f0",
   "metadata": {},
   "source": [
    "### 1.1 Built-in modules \n",
    "\n",
    "You may import built-in python modules without installing them. For example, here we are going to use `math` module. \n",
    "\n",
    "- Check all built-in python libraries distributed with Python 3.13: https://docs.python.org/3.13/library/index.html"
   ]
  },
  {
   "cell_type": "code",
   "execution_count": null,
   "id": "b4f38972",
   "metadata": {
    "ExecuteTime": {
     "end_time": "2025-08-08T09:49:19.074223Z",
     "start_time": "2025-08-08T09:49:19.071806Z"
    }
   },
   "outputs": [],
   "source": [
    "import math \n",
    "# Documentation https://docs.python.org/3.13/library/math.html\n",
    "# various functions/variables in math module: ceil, floor, sqrt, pi, log10.\n",
    "\n",
    "print(math.ceil(1.44))\n",
    "print(math.floor(10.44))\n",
    "print(math.sqrt(16))\n",
    "print(math.log10(100))"
   ]
  },
  {
   "cell_type": "markdown",
   "id": "a6272b9c",
   "metadata": {},
   "source": [
    "### 1.2  Third-party packages\n",
    "Unlike built-in modules, there are lots of third-party python packages **which need to be installed first before imported and used**.\n",
    "- In Jupyter Notebook, we can use ``pip`` to install packages in current environment.\n",
    "- Here let's install three third-party packages (e.g., ``pandas``, ``numpy``, ``matplolib``) which we will use today.  "
   ]
  },
  {
   "cell_type": "code",
   "execution_count": null,
   "id": "ccaa55d0",
   "metadata": {},
   "outputs": [],
   "source": [
    "pip install pandas numpy matplotlib"
   ]
  },
  {
   "cell_type": "markdown",
   "id": "753b27d1-79ce-4fec-ac36-c2f2b2024934",
   "metadata": {},
   "source": [
    "Check all packages in current environment."
   ]
  },
  {
   "cell_type": "code",
   "execution_count": null,
   "id": "25b8b01a-4ca0-4d24-96c7-1e76b4a2e87f",
   "metadata": {
    "scrolled": true
   },
   "outputs": [],
   "source": [
    "pip list"
   ]
  },
  {
   "cell_type": "markdown",
   "id": "c11e6b49",
   "metadata": {},
   "source": [
    "## 2. Simple Data Visualization "
   ]
  },
  {
   "cell_type": "markdown",
   "id": "a6131248",
   "metadata": {},
   "source": [
    "Here we have saved a csv file named ``diabetes.csv`` in current work folder. \n",
    "\n",
    "- The absolute path to this file is `/Users/jingliu/Desktop/Bridging_python/diabetes.csv`\n",
    "- Note we already imported `pandas` earlier."
   ]
  },
  {
   "cell_type": "code",
   "execution_count": null,
   "id": "08badbfc",
   "metadata": {},
   "outputs": [],
   "source": [
    "import pandas as pd\n",
    "\n",
    "df = pd.read_csv('diabetes.csv')  # read in a csv file saved current directory - relative path\n",
    "\n",
    "df.head()"
   ]
  },
  {
   "cell_type": "markdown",
   "id": "63932822",
   "metadata": {},
   "source": [
    "Visualize the relationship between ``Age`` and ``BMI`` with a simple scatter plot. \n",
    "\n",
    "- Need to import ``matplotlib`` first (make sure it is installed first)\n",
    "- Check the [documentation](https://matplotlib.org/stable/) for `matplotlib` for details. "
   ]
  },
  {
   "cell_type": "code",
   "execution_count": null,
   "id": "49b75ffe",
   "metadata": {},
   "outputs": [],
   "source": [
    "import matplotlib.pyplot as plt      \n",
    "\n",
    "fig = plt.figure(figsize=(10,6))    # create a new figure with specific figure size(width, height in inches)\n",
    "plt.scatter(df['Age'], df['BMI'], color='lightblue')\n",
    "plt.xlabel(\"Age\")\n",
    "plt.ylabel(\"BMI\")\n",
    "plt.title('BMI and Age');"
   ]
  },
  {
   "cell_type": "code",
   "execution_count": null,
   "id": "03bf8548",
   "metadata": {},
   "outputs": [],
   "source": [
    "fig.savefig('BMI and Age.jpeg')   # save the figure to current local directory"
   ]
  },
  {
   "cell_type": "markdown",
   "id": "6c51452b-13ce-463a-be3e-27accb705ece",
   "metadata": {},
   "source": [
    "Last, let's save our work in a readable format.\n"
   ]
  }
 ],
 "metadata": {
  "kernelspec": {
   "display_name": "Python 3 (ipykernel)",
   "language": "python",
   "name": "python3"
  },
  "language_info": {
   "codemirror_mode": {
    "name": "ipython",
    "version": 3
   },
   "file_extension": ".py",
   "mimetype": "text/x-python",
   "name": "python",
   "nbconvert_exporter": "python",
   "pygments_lexer": "ipython3",
   "version": "3.13.6"
  }
 },
 "nbformat": 4,
 "nbformat_minor": 5
}
